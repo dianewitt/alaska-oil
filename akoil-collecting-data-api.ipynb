{
 "cells": [
  {
   "cell_type": "code",
   "execution_count": 1,
   "id": "57e5b333",
   "metadata": {},
   "outputs": [],
   "source": [
    "import pandas as pd\n",
    "import requests\n",
    "\n",
    "from config import eia_key"
   ]
  },
  {
   "cell_type": "code",
   "execution_count": 2,
   "id": "3d9c828b",
   "metadata": {},
   "outputs": [],
   "source": [
    "series_id = 'PET.F005071__3.M'\n",
    "url = 'http://api.eia.gov/series/?'"
   ]
  },
  {
   "cell_type": "code",
   "execution_count": 3,
   "id": "4be92901",
   "metadata": {},
   "outputs": [],
   "source": [
    "query_url = f'{url}api_key={eia_key}&series_id={series_id}' # Build query"
   ]
  },
  {
   "cell_type": "code",
   "execution_count": 4,
   "id": "58ec6b83",
   "metadata": {},
   "outputs": [],
   "source": [
    "query = requests.get(query_url).json()"
   ]
  },
  {
   "cell_type": "code",
   "execution_count": 5,
   "id": "8c2436d5",
   "metadata": {},
   "outputs": [],
   "source": [
    "series = query['series']"
   ]
  },
  {
   "cell_type": "code",
   "execution_count": 6,
   "id": "0489cdfd",
   "metadata": {},
   "outputs": [
    {
     "data": {
      "text/plain": [
       "'Alaska North Slope First Purchase Price, Monthly'"
      ]
     },
     "execution_count": 6,
     "metadata": {},
     "output_type": "execute_result"
    }
   ],
   "source": [
    "name = series[0]['name']\n",
    "name"
   ]
  },
  {
   "cell_type": "code",
   "execution_count": 7,
   "id": "7b88dcb6",
   "metadata": {},
   "outputs": [],
   "source": [
    "data = series[0]['data']"
   ]
  },
  {
   "cell_type": "code",
   "execution_count": 8,
   "id": "e5682f1d",
   "metadata": {},
   "outputs": [],
   "source": [
    "df = pd.DataFrame(data)"
   ]
  },
  {
   "cell_type": "code",
   "execution_count": 9,
   "id": "19c75dee",
   "metadata": {},
   "outputs": [],
   "source": [
    "df = df.rename(columns={0: \"YYYYMM\", 1: \"spot_price\"})"
   ]
  },
  {
   "cell_type": "code",
   "execution_count": 10,
   "id": "2e0f1a62",
   "metadata": {},
   "outputs": [],
   "source": [
    "df.to_csv('Resources/eia_spot_prices.csv', mode='w', index=False) # Write merged dataframe to csv"
   ]
  },
  {
   "cell_type": "code",
   "execution_count": 11,
   "id": "3367f21a",
   "metadata": {},
   "outputs": [],
   "source": [
    "# TO DO\n",
    "# parse the YYYYMM column to separate years from months"
   ]
  }
 ],
 "metadata": {
  "kernelspec": {
   "display_name": "Python 3",
   "language": "python",
   "name": "python3"
  },
  "language_info": {
   "codemirror_mode": {
    "name": "ipython",
    "version": 3
   },
   "file_extension": ".py",
   "mimetype": "text/x-python",
   "name": "python",
   "nbconvert_exporter": "python",
   "pygments_lexer": "ipython3",
   "version": "3.8.11"
  }
 },
 "nbformat": 4,
 "nbformat_minor": 5
}
